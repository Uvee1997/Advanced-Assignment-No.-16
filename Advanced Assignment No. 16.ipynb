{
 "cells": [
  {
   "cell_type": "markdown",
   "id": "18197bd6",
   "metadata": {},
   "source": [
    "1) What is the benefit of regular expression?\n",
    "\n",
    ":- Regular expression are the expresssion that are made to match specific pattern. for example, it verify authenticity of\n",
    "   email,phone number and website.\n",
    "\n",
    "   i) Wide range of usage possibility, you can create one regular expression to validate any kind of input.\n",
    "   ii) Supported by any language, there are few language which do not support regular expression\n",
    "   iii) Do more with less, keeps your code cleaner.\n",
    "    "
   ]
  },
  {
   "cell_type": "markdown",
   "id": "d00cc17a",
   "metadata": {},
   "source": [
    "2) Describe the difference between the effects of \"ab(c)+\" & \"a(bc)+\" Which of these, if any, is the unqualified pattern\n",
    "   \"abc+\"?\n",
    "    \n",
    ":- The difference is in the operator precedence (order of operations) in both expressions. The result of the expression is evaluated on the basis of the different order. In the first expression, b * c is evaluated firstly, and in the second expression, the brackets facilitate the sum of a and b, followed by the multiplication by c.    "
   ]
  },
  {
   "cell_type": "markdown",
   "id": "be0540d1",
   "metadata": {},
   "source": [
    "3) How much do you need to use the following sentence while using regular expressions?\n",
    "\n",
    "import re\n",
    "\n",
    ":- It better to used every time when operating new function."
   ]
  },
  {
   "cell_type": "markdown",
   "id": "5e1639d4",
   "metadata": {},
   "source": [
    "4) Which characters have special significance in square brackets when expressing a range, and\n",
    "   under what circumstances?\n",
    "\n",
    ":- The characters in square brackets is called as set."
   ]
  },
  {
   "cell_type": "markdown",
   "id": "dc20d815",
   "metadata": {},
   "source": [
    "5) How does compiling a regular-expression object benefit you?\n",
    "\n",
    ":- We can combine a regular expression pattern into pattern objects, which can be used for pattern matching. It also helps to search a pattern again without rewriting it."
   ]
  },
  {
   "cell_type": "markdown",
   "id": "8eebbc7e",
   "metadata": {},
   "source": [
    "6) What are some examples of how to use the match object returned by re.match and re.search?\n",
    "\n",
    ":- re.match & re.search both are the functions of re module in python. examples as below "
   ]
  },
  {
   "cell_type": "code",
   "execution_count": 1,
   "id": "4a728222",
   "metadata": {},
   "outputs": [],
   "source": [
    "import re\n",
    "\n",
    "list = [\"guru99 get\", \"guru99 give\" , \"guru99 selenium\"]\n",
    "for element in list:\n",
    "    z=re.match(\"(g\\w+)\\w(g\\w+)\",element)\n",
    "    \n",
    "    if z:\n",
    "        print((z.groups()))"
   ]
  },
  {
   "cell_type": "markdown",
   "id": "2c0b5a0c",
   "metadata": {},
   "source": [
    "7) What is the difference between using a vertical bar (|) as an alteration and using square brackets as a character set?\n",
    "\n",
    ":- Vertical bar(|) tells about either or, while square brackets([]) tells the set of characters."
   ]
  },
  {
   "cell_type": "markdown",
   "id": "23ec2e43",
   "metadata": {},
   "source": [
    "8) In regular-expression search patterns, why is it necessary to use the raw-string indicator (r)? In replacement strings?\n",
    "\n",
    ":- A raw string in programming allows all characters in a string literal to remain the same in code and in the material, rather than performing their standard programming functions. This allows characters that would otherwise trigger specific formatting to read as their literal value instead. "
   ]
  }
 ],
 "metadata": {
  "kernelspec": {
   "display_name": "Python 3 (ipykernel)",
   "language": "python",
   "name": "python3"
  },
  "language_info": {
   "codemirror_mode": {
    "name": "ipython",
    "version": 3
   },
   "file_extension": ".py",
   "mimetype": "text/x-python",
   "name": "python",
   "nbconvert_exporter": "python",
   "pygments_lexer": "ipython3",
   "version": "3.9.7"
  }
 },
 "nbformat": 4,
 "nbformat_minor": 5
}
